{
  "nbformat": 4,
  "nbformat_minor": 0,
  "metadata": {
    "colab": {
      "provenance": [],
      "authorship_tag": "ABX9TyPry6lve1ik41twfgHeA39J"
    },
    "kernelspec": {
      "name": "python3",
      "display_name": "Python 3"
    },
    "language_info": {
      "name": "python"
    },
    "accelerator": "TPU"
  },
  "cells": [
    {
      "cell_type": "markdown",
      "source": [
        "# **Project Title : Goodreads Book**\n",
        "\n",
        "**Problem Statement:**\n",
        "\n",
        "Explore a comprehensive dataset of books from the Goodreads API to analyze ratings, popularity, and genres. Conduct EDA to uncover trends, analyze ratings, popularity, genres, and develop a recommendation system for personalized book suggestions.\n",
        "\n",
        "**Objective:**\n",
        "\n",
        "1. Conduct EDA to understand the dataset's structure and identify key trends.\n",
        "2. Analyze book ratings and factors influencing them (e.g., publication year, author, genre).\n",
        "3. Investigate book popularity based on reviews and ratings across genres and time.\n",
        "4. Explore genre distribution and trends over time among readers.\n",
        "5. Develop a recommendation system for personalized book suggestions.\n",
        "\n",
        "**Expected Deliverables:**\n",
        "\n",
        "1. EDA report highlighting key insights and trends.\n",
        "2. Visualizations illustrating trends and patterns.\n",
        "3. Rating and popularity analysis reports.\n",
        "4. Genre analysis report showcasing trends.\n",
        "5. Recommendation system implementation for personalized suggestions.\n",
        "\n",
        "**Key Challenges:**\n",
        "\n",
        "1. Handling missing or incomplete data.\n",
        "2. Efficiently managing large volumes of data.\n",
        "3. Ensuring accuracy and effectiveness of the recommendation system.\n",
        "4. Addressing biases or limitations in the dataset.\n",
        "\n",
        "**Success Criteria:**\n",
        "\n",
        "1. Uncover meaningful insights through EDA.\n",
        "2. Develop an effective recommendation system for users.\n",
        "3. Provide actionable recommendations for stakeholders in the book industry."
      ],
      "metadata": {
        "id": "W2ySz9l3TYBp"
      }
    },
    {
      "cell_type": "markdown",
      "source": [
        "###Import libraries"
      ],
      "metadata": {
        "id": "FQ0oWqUQUGbr"
      }
    },
    {
      "cell_type": "code",
      "execution_count": 1,
      "metadata": {
        "id": "7QoxEF76kHd_"
      },
      "outputs": [],
      "source": [
        "import matplotlib.pylab as plt\n",
        "import numpy as np\n",
        "import pandas as pd\n",
        "import matplotlib.pyplot as plt\n",
        "import seaborn as sns\n",
        "from sklearn.metrics.pairwise import cosine_similarity\n",
        "from sklearn.preprocessing import StandardScaler\n",
        "from sklearn.feature_extraction.text import TfidfVectorizer\n",
        "from pathlib import Path\n",
        "import tensorflow_hub as hub\n",
        "import glob\n",
        "import os\n",
        "import matplotlib.pyplot as plt\n",
        "from sklearn.preprocessing import OrdinalEncoder"
      ]
    },
    {
      "cell_type": "code",
      "source": [
        "from google.colab import drive\n",
        "drive.mount('/content/drive')"
      ],
      "metadata": {
        "id": "L_QIPSsek3Ne",
        "colab": {
          "base_uri": "https://localhost:8080/"
        },
        "outputId": "62a82b1b-9ca2-4053-fc82-1bcce158aea2"
      },
      "execution_count": 2,
      "outputs": [
        {
          "output_type": "stream",
          "name": "stdout",
          "text": [
            "Mounted at /content/drive\n"
          ]
        }
      ]
    },
    {
      "cell_type": "code",
      "source": [
        "# Path to the directory containing the CSV files\n",
        "directory_path = \"/content/drive/MyDrive/project_List/models/All model and dataset/Book review\""
      ],
      "metadata": {
        "id": "DJP0DicalkcJ"
      },
      "execution_count": 3,
      "outputs": []
    },
    {
      "cell_type": "markdown",
      "source": [
        "###Dataframe"
      ],
      "metadata": {
        "id": "6Twd6ZlEUM_3"
      }
    },
    {
      "cell_type": "code",
      "source": [
        "# List to store DataFrames\n",
        "dataframes = []\n",
        "\n",
        "# Loop through each file in the directory\n",
        "for filename in os.listdir(directory_path):\n",
        "    if filename.endswith(\".csv\"):\n",
        "        # Construct the full file path\n",
        "        file_path = os.path.join(directory_path, filename)\n",
        "        # Read the CSV file into a DataFrame\n",
        "        df = pd.read_csv(file_path)\n",
        "        # Append the DataFrame to the list\n",
        "        dataframes.append(df)"
      ],
      "metadata": {
        "id": "Ol33AHPGlmFY"
      },
      "execution_count": 4,
      "outputs": []
    },
    {
      "cell_type": "code",
      "source": [
        "# Concatenate all DataFrames into a single DataFrame\n",
        "merged_df = pd.concat(dataframes, ignore_index=True)"
      ],
      "metadata": {
        "id": "31q4f6-9lxh4"
      },
      "execution_count": 5,
      "outputs": []
    },
    {
      "cell_type": "code",
      "source": [
        "# Display the first few rows of the merged DataFrame\n",
        "merged_df.head()"
      ],
      "metadata": {
        "id": "U5pfYDfgl04Y",
        "colab": {
          "base_uri": "https://localhost:8080/",
          "height": 776
        },
        "outputId": "542c7d45-ba04-4c5f-e425-af95fe1dd041"
      },
      "execution_count": 6,
      "outputs": [
        {
          "output_type": "execute_result",
          "data": {
            "text/plain": [
              "    Id                                               Name RatingDist1  \\\n",
              "0  1.0  Harry Potter and the Half-Blood Prince (Harry ...      1:9896   \n",
              "1  2.0  Harry Potter and the Order of the Phoenix (Har...     1:12455   \n",
              "2  3.0  Harry Potter and the Sorcerer's Stone (Harry P...    1:108202   \n",
              "3  4.0  Harry Potter and the Chamber of Secrets (Harry...     1:11896   \n",
              "4  5.0  Harry Potter and the Prisoner of Azkaban (Harr...     1:10128   \n",
              "\n",
              "   pagesNumber RatingDist4 RatingDistTotal  PublishMonth  PublishDay  \\\n",
              "0        652.0    4:556485   total:2298124          16.0         9.0   \n",
              "1        870.0    4:604283   total:2358637           1.0         9.0   \n",
              "2        309.0   4:1513191   total:6587388           1.0        11.0   \n",
              "3        352.0    4:706082   total:2560657           1.0        11.0   \n",
              "4        435.0    4:630534   total:2610317           1.0         5.0   \n",
              "\n",
              "         Publisher  CountsOfReview  ...       Authors Rating RatingDist2  \\\n",
              "0  Scholastic Inc.         28062.0  ...  J.K. Rowling   4.57     2:25317   \n",
              "1  Scholastic Inc.         29770.0  ...  J.K. Rowling    4.5     2:37005   \n",
              "2   Scholastic Inc         75911.0  ...  J.K. Rowling   4.47    2:130310   \n",
              "3       Scholastic           244.0  ...  J.K. Rowling   4.42     2:49353   \n",
              "4  Scholastic Inc.         37093.0  ...  J.K. Rowling   4.57     2:24849   \n",
              "\n",
              "  RatingDist5        ISBN RatingDist3 Description Count of text reviews  \\\n",
              "0   5:1546466         NaN    3:159960         NaN                   NaN   \n",
              "1   5:1493113  0439358078    3:211781         NaN                   NaN   \n",
              "2   5:4268227         NaN    3:567458         NaN                   NaN   \n",
              "3   5:1504505  0439554896    3:288821         NaN                   NaN   \n",
              "4   5:1749958  043965548X    3:194848         NaN                   NaN   \n",
              "\n",
              "  PagesNumber  ID  \n",
              "0         NaN NaN  \n",
              "1         NaN NaN  \n",
              "2         NaN NaN  \n",
              "3         NaN NaN  \n",
              "4         NaN NaN  \n",
              "\n",
              "[5 rows x 22 columns]"
            ],
            "text/html": [
              "\n",
              "  <div id=\"df-381d4dd4-d85e-43c1-ae1a-f09c8db818e4\" class=\"colab-df-container\">\n",
              "    <div>\n",
              "<style scoped>\n",
              "    .dataframe tbody tr th:only-of-type {\n",
              "        vertical-align: middle;\n",
              "    }\n",
              "\n",
              "    .dataframe tbody tr th {\n",
              "        vertical-align: top;\n",
              "    }\n",
              "\n",
              "    .dataframe thead th {\n",
              "        text-align: right;\n",
              "    }\n",
              "</style>\n",
              "<table border=\"1\" class=\"dataframe\">\n",
              "  <thead>\n",
              "    <tr style=\"text-align: right;\">\n",
              "      <th></th>\n",
              "      <th>Id</th>\n",
              "      <th>Name</th>\n",
              "      <th>RatingDist1</th>\n",
              "      <th>pagesNumber</th>\n",
              "      <th>RatingDist4</th>\n",
              "      <th>RatingDistTotal</th>\n",
              "      <th>PublishMonth</th>\n",
              "      <th>PublishDay</th>\n",
              "      <th>Publisher</th>\n",
              "      <th>CountsOfReview</th>\n",
              "      <th>...</th>\n",
              "      <th>Authors</th>\n",
              "      <th>Rating</th>\n",
              "      <th>RatingDist2</th>\n",
              "      <th>RatingDist5</th>\n",
              "      <th>ISBN</th>\n",
              "      <th>RatingDist3</th>\n",
              "      <th>Description</th>\n",
              "      <th>Count of text reviews</th>\n",
              "      <th>PagesNumber</th>\n",
              "      <th>ID</th>\n",
              "    </tr>\n",
              "  </thead>\n",
              "  <tbody>\n",
              "    <tr>\n",
              "      <th>0</th>\n",
              "      <td>1.0</td>\n",
              "      <td>Harry Potter and the Half-Blood Prince (Harry ...</td>\n",
              "      <td>1:9896</td>\n",
              "      <td>652.0</td>\n",
              "      <td>4:556485</td>\n",
              "      <td>total:2298124</td>\n",
              "      <td>16.0</td>\n",
              "      <td>9.0</td>\n",
              "      <td>Scholastic Inc.</td>\n",
              "      <td>28062.0</td>\n",
              "      <td>...</td>\n",
              "      <td>J.K. Rowling</td>\n",
              "      <td>4.57</td>\n",
              "      <td>2:25317</td>\n",
              "      <td>5:1546466</td>\n",
              "      <td>NaN</td>\n",
              "      <td>3:159960</td>\n",
              "      <td>NaN</td>\n",
              "      <td>NaN</td>\n",
              "      <td>NaN</td>\n",
              "      <td>NaN</td>\n",
              "    </tr>\n",
              "    <tr>\n",
              "      <th>1</th>\n",
              "      <td>2.0</td>\n",
              "      <td>Harry Potter and the Order of the Phoenix (Har...</td>\n",
              "      <td>1:12455</td>\n",
              "      <td>870.0</td>\n",
              "      <td>4:604283</td>\n",
              "      <td>total:2358637</td>\n",
              "      <td>1.0</td>\n",
              "      <td>9.0</td>\n",
              "      <td>Scholastic Inc.</td>\n",
              "      <td>29770.0</td>\n",
              "      <td>...</td>\n",
              "      <td>J.K. Rowling</td>\n",
              "      <td>4.5</td>\n",
              "      <td>2:37005</td>\n",
              "      <td>5:1493113</td>\n",
              "      <td>0439358078</td>\n",
              "      <td>3:211781</td>\n",
              "      <td>NaN</td>\n",
              "      <td>NaN</td>\n",
              "      <td>NaN</td>\n",
              "      <td>NaN</td>\n",
              "    </tr>\n",
              "    <tr>\n",
              "      <th>2</th>\n",
              "      <td>3.0</td>\n",
              "      <td>Harry Potter and the Sorcerer's Stone (Harry P...</td>\n",
              "      <td>1:108202</td>\n",
              "      <td>309.0</td>\n",
              "      <td>4:1513191</td>\n",
              "      <td>total:6587388</td>\n",
              "      <td>1.0</td>\n",
              "      <td>11.0</td>\n",
              "      <td>Scholastic Inc</td>\n",
              "      <td>75911.0</td>\n",
              "      <td>...</td>\n",
              "      <td>J.K. Rowling</td>\n",
              "      <td>4.47</td>\n",
              "      <td>2:130310</td>\n",
              "      <td>5:4268227</td>\n",
              "      <td>NaN</td>\n",
              "      <td>3:567458</td>\n",
              "      <td>NaN</td>\n",
              "      <td>NaN</td>\n",
              "      <td>NaN</td>\n",
              "      <td>NaN</td>\n",
              "    </tr>\n",
              "    <tr>\n",
              "      <th>3</th>\n",
              "      <td>4.0</td>\n",
              "      <td>Harry Potter and the Chamber of Secrets (Harry...</td>\n",
              "      <td>1:11896</td>\n",
              "      <td>352.0</td>\n",
              "      <td>4:706082</td>\n",
              "      <td>total:2560657</td>\n",
              "      <td>1.0</td>\n",
              "      <td>11.0</td>\n",
              "      <td>Scholastic</td>\n",
              "      <td>244.0</td>\n",
              "      <td>...</td>\n",
              "      <td>J.K. Rowling</td>\n",
              "      <td>4.42</td>\n",
              "      <td>2:49353</td>\n",
              "      <td>5:1504505</td>\n",
              "      <td>0439554896</td>\n",
              "      <td>3:288821</td>\n",
              "      <td>NaN</td>\n",
              "      <td>NaN</td>\n",
              "      <td>NaN</td>\n",
              "      <td>NaN</td>\n",
              "    </tr>\n",
              "    <tr>\n",
              "      <th>4</th>\n",
              "      <td>5.0</td>\n",
              "      <td>Harry Potter and the Prisoner of Azkaban (Harr...</td>\n",
              "      <td>1:10128</td>\n",
              "      <td>435.0</td>\n",
              "      <td>4:630534</td>\n",
              "      <td>total:2610317</td>\n",
              "      <td>1.0</td>\n",
              "      <td>5.0</td>\n",
              "      <td>Scholastic Inc.</td>\n",
              "      <td>37093.0</td>\n",
              "      <td>...</td>\n",
              "      <td>J.K. Rowling</td>\n",
              "      <td>4.57</td>\n",
              "      <td>2:24849</td>\n",
              "      <td>5:1749958</td>\n",
              "      <td>043965548X</td>\n",
              "      <td>3:194848</td>\n",
              "      <td>NaN</td>\n",
              "      <td>NaN</td>\n",
              "      <td>NaN</td>\n",
              "      <td>NaN</td>\n",
              "    </tr>\n",
              "  </tbody>\n",
              "</table>\n",
              "<p>5 rows × 22 columns</p>\n",
              "</div>\n",
              "    <div class=\"colab-df-buttons\">\n",
              "\n",
              "  <div class=\"colab-df-container\">\n",
              "    <button class=\"colab-df-convert\" onclick=\"convertToInteractive('df-381d4dd4-d85e-43c1-ae1a-f09c8db818e4')\"\n",
              "            title=\"Convert this dataframe to an interactive table.\"\n",
              "            style=\"display:none;\">\n",
              "\n",
              "  <svg xmlns=\"http://www.w3.org/2000/svg\" height=\"24px\" viewBox=\"0 -960 960 960\">\n",
              "    <path d=\"M120-120v-720h720v720H120Zm60-500h600v-160H180v160Zm220 220h160v-160H400v160Zm0 220h160v-160H400v160ZM180-400h160v-160H180v160Zm440 0h160v-160H620v160ZM180-180h160v-160H180v160Zm440 0h160v-160H620v160Z\"/>\n",
              "  </svg>\n",
              "    </button>\n",
              "\n",
              "  <style>\n",
              "    .colab-df-container {\n",
              "      display:flex;\n",
              "      gap: 12px;\n",
              "    }\n",
              "\n",
              "    .colab-df-convert {\n",
              "      background-color: #E8F0FE;\n",
              "      border: none;\n",
              "      border-radius: 50%;\n",
              "      cursor: pointer;\n",
              "      display: none;\n",
              "      fill: #1967D2;\n",
              "      height: 32px;\n",
              "      padding: 0 0 0 0;\n",
              "      width: 32px;\n",
              "    }\n",
              "\n",
              "    .colab-df-convert:hover {\n",
              "      background-color: #E2EBFA;\n",
              "      box-shadow: 0px 1px 2px rgba(60, 64, 67, 0.3), 0px 1px 3px 1px rgba(60, 64, 67, 0.15);\n",
              "      fill: #174EA6;\n",
              "    }\n",
              "\n",
              "    .colab-df-buttons div {\n",
              "      margin-bottom: 4px;\n",
              "    }\n",
              "\n",
              "    [theme=dark] .colab-df-convert {\n",
              "      background-color: #3B4455;\n",
              "      fill: #D2E3FC;\n",
              "    }\n",
              "\n",
              "    [theme=dark] .colab-df-convert:hover {\n",
              "      background-color: #434B5C;\n",
              "      box-shadow: 0px 1px 3px 1px rgba(0, 0, 0, 0.15);\n",
              "      filter: drop-shadow(0px 1px 2px rgba(0, 0, 0, 0.3));\n",
              "      fill: #FFFFFF;\n",
              "    }\n",
              "  </style>\n",
              "\n",
              "    <script>\n",
              "      const buttonEl =\n",
              "        document.querySelector('#df-381d4dd4-d85e-43c1-ae1a-f09c8db818e4 button.colab-df-convert');\n",
              "      buttonEl.style.display =\n",
              "        google.colab.kernel.accessAllowed ? 'block' : 'none';\n",
              "\n",
              "      async function convertToInteractive(key) {\n",
              "        const element = document.querySelector('#df-381d4dd4-d85e-43c1-ae1a-f09c8db818e4');\n",
              "        const dataTable =\n",
              "          await google.colab.kernel.invokeFunction('convertToInteractive',\n",
              "                                                    [key], {});\n",
              "        if (!dataTable) return;\n",
              "\n",
              "        const docLinkHtml = 'Like what you see? Visit the ' +\n",
              "          '<a target=\"_blank\" href=https://colab.research.google.com/notebooks/data_table.ipynb>data table notebook</a>'\n",
              "          + ' to learn more about interactive tables.';\n",
              "        element.innerHTML = '';\n",
              "        dataTable['output_type'] = 'display_data';\n",
              "        await google.colab.output.renderOutput(dataTable, element);\n",
              "        const docLink = document.createElement('div');\n",
              "        docLink.innerHTML = docLinkHtml;\n",
              "        element.appendChild(docLink);\n",
              "      }\n",
              "    </script>\n",
              "  </div>\n",
              "\n",
              "\n",
              "<div id=\"df-3f1c55ef-52ac-460e-b968-036adca96fd5\">\n",
              "  <button class=\"colab-df-quickchart\" onclick=\"quickchart('df-3f1c55ef-52ac-460e-b968-036adca96fd5')\"\n",
              "            title=\"Suggest charts\"\n",
              "            style=\"display:none;\">\n",
              "\n",
              "<svg xmlns=\"http://www.w3.org/2000/svg\" height=\"24px\"viewBox=\"0 0 24 24\"\n",
              "     width=\"24px\">\n",
              "    <g>\n",
              "        <path d=\"M19 3H5c-1.1 0-2 .9-2 2v14c0 1.1.9 2 2 2h14c1.1 0 2-.9 2-2V5c0-1.1-.9-2-2-2zM9 17H7v-7h2v7zm4 0h-2V7h2v10zm4 0h-2v-4h2v4z\"/>\n",
              "    </g>\n",
              "</svg>\n",
              "  </button>\n",
              "\n",
              "<style>\n",
              "  .colab-df-quickchart {\n",
              "      --bg-color: #E8F0FE;\n",
              "      --fill-color: #1967D2;\n",
              "      --hover-bg-color: #E2EBFA;\n",
              "      --hover-fill-color: #174EA6;\n",
              "      --disabled-fill-color: #AAA;\n",
              "      --disabled-bg-color: #DDD;\n",
              "  }\n",
              "\n",
              "  [theme=dark] .colab-df-quickchart {\n",
              "      --bg-color: #3B4455;\n",
              "      --fill-color: #D2E3FC;\n",
              "      --hover-bg-color: #434B5C;\n",
              "      --hover-fill-color: #FFFFFF;\n",
              "      --disabled-bg-color: #3B4455;\n",
              "      --disabled-fill-color: #666;\n",
              "  }\n",
              "\n",
              "  .colab-df-quickchart {\n",
              "    background-color: var(--bg-color);\n",
              "    border: none;\n",
              "    border-radius: 50%;\n",
              "    cursor: pointer;\n",
              "    display: none;\n",
              "    fill: var(--fill-color);\n",
              "    height: 32px;\n",
              "    padding: 0;\n",
              "    width: 32px;\n",
              "  }\n",
              "\n",
              "  .colab-df-quickchart:hover {\n",
              "    background-color: var(--hover-bg-color);\n",
              "    box-shadow: 0 1px 2px rgba(60, 64, 67, 0.3), 0 1px 3px 1px rgba(60, 64, 67, 0.15);\n",
              "    fill: var(--button-hover-fill-color);\n",
              "  }\n",
              "\n",
              "  .colab-df-quickchart-complete:disabled,\n",
              "  .colab-df-quickchart-complete:disabled:hover {\n",
              "    background-color: var(--disabled-bg-color);\n",
              "    fill: var(--disabled-fill-color);\n",
              "    box-shadow: none;\n",
              "  }\n",
              "\n",
              "  .colab-df-spinner {\n",
              "    border: 2px solid var(--fill-color);\n",
              "    border-color: transparent;\n",
              "    border-bottom-color: var(--fill-color);\n",
              "    animation:\n",
              "      spin 1s steps(1) infinite;\n",
              "  }\n",
              "\n",
              "  @keyframes spin {\n",
              "    0% {\n",
              "      border-color: transparent;\n",
              "      border-bottom-color: var(--fill-color);\n",
              "      border-left-color: var(--fill-color);\n",
              "    }\n",
              "    20% {\n",
              "      border-color: transparent;\n",
              "      border-left-color: var(--fill-color);\n",
              "      border-top-color: var(--fill-color);\n",
              "    }\n",
              "    30% {\n",
              "      border-color: transparent;\n",
              "      border-left-color: var(--fill-color);\n",
              "      border-top-color: var(--fill-color);\n",
              "      border-right-color: var(--fill-color);\n",
              "    }\n",
              "    40% {\n",
              "      border-color: transparent;\n",
              "      border-right-color: var(--fill-color);\n",
              "      border-top-color: var(--fill-color);\n",
              "    }\n",
              "    60% {\n",
              "      border-color: transparent;\n",
              "      border-right-color: var(--fill-color);\n",
              "    }\n",
              "    80% {\n",
              "      border-color: transparent;\n",
              "      border-right-color: var(--fill-color);\n",
              "      border-bottom-color: var(--fill-color);\n",
              "    }\n",
              "    90% {\n",
              "      border-color: transparent;\n",
              "      border-bottom-color: var(--fill-color);\n",
              "    }\n",
              "  }\n",
              "</style>\n",
              "\n",
              "  <script>\n",
              "    async function quickchart(key) {\n",
              "      const quickchartButtonEl =\n",
              "        document.querySelector('#' + key + ' button');\n",
              "      quickchartButtonEl.disabled = true;  // To prevent multiple clicks.\n",
              "      quickchartButtonEl.classList.add('colab-df-spinner');\n",
              "      try {\n",
              "        const charts = await google.colab.kernel.invokeFunction(\n",
              "            'suggestCharts', [key], {});\n",
              "      } catch (error) {\n",
              "        console.error('Error during call to suggestCharts:', error);\n",
              "      }\n",
              "      quickchartButtonEl.classList.remove('colab-df-spinner');\n",
              "      quickchartButtonEl.classList.add('colab-df-quickchart-complete');\n",
              "    }\n",
              "    (() => {\n",
              "      let quickchartButtonEl =\n",
              "        document.querySelector('#df-3f1c55ef-52ac-460e-b968-036adca96fd5 button');\n",
              "      quickchartButtonEl.style.display =\n",
              "        google.colab.kernel.accessAllowed ? 'block' : 'none';\n",
              "    })();\n",
              "  </script>\n",
              "</div>\n",
              "\n",
              "    </div>\n",
              "  </div>\n"
            ],
            "application/vnd.google.colaboratory.intrinsic+json": {
              "type": "dataframe",
              "variable_name": "merged_df"
            }
          },
          "metadata": {},
          "execution_count": 6
        }
      ]
    },
    {
      "cell_type": "code",
      "source": [
        "merged_df.columns"
      ],
      "metadata": {
        "id": "edVgf_yal1mY",
        "colab": {
          "base_uri": "https://localhost:8080/"
        },
        "outputId": "6e74614d-77c4-47a6-fdf5-7c2c755bf824"
      },
      "execution_count": 7,
      "outputs": [
        {
          "output_type": "execute_result",
          "data": {
            "text/plain": [
              "Index(['Id', 'Name', 'RatingDist1', 'pagesNumber', 'RatingDist4',\n",
              "       'RatingDistTotal', 'PublishMonth', 'PublishDay', 'Publisher',\n",
              "       'CountsOfReview', 'PublishYear', 'Language', 'Authors', 'Rating',\n",
              "       'RatingDist2', 'RatingDist5', 'ISBN', 'RatingDist3', 'Description',\n",
              "       'Count of text reviews', 'PagesNumber', 'ID'],\n",
              "      dtype='object')"
            ]
          },
          "metadata": {},
          "execution_count": 7
        }
      ]
    },
    {
      "cell_type": "code",
      "source": [
        "merged_df.shape"
      ],
      "metadata": {
        "id": "6o8x2ba8uyP_",
        "colab": {
          "base_uri": "https://localhost:8080/"
        },
        "outputId": "4e2fb521-5e2e-4c80-c2de-87ea60eebcc0"
      },
      "execution_count": 8,
      "outputs": [
        {
          "output_type": "execute_result",
          "data": {
            "text/plain": [
              "(2212906, 22)"
            ]
          },
          "metadata": {},
          "execution_count": 8
        }
      ]
    },
    {
      "cell_type": "code",
      "source": [
        "merged_df.info()"
      ],
      "metadata": {
        "id": "95eHagAFuo1y",
        "colab": {
          "base_uri": "https://localhost:8080/"
        },
        "outputId": "4f196322-5f29-45a2-ac59-285c601c3708"
      },
      "execution_count": 9,
      "outputs": [
        {
          "output_type": "stream",
          "name": "stdout",
          "text": [
            "<class 'pandas.core.frame.DataFrame'>\n",
            "RangeIndex: 2212906 entries, 0 to 2212905\n",
            "Data columns (total 22 columns):\n",
            " #   Column                 Dtype  \n",
            "---  ------                 -----  \n",
            " 0   Id                     float64\n",
            " 1   Name                   object \n",
            " 2   RatingDist1            object \n",
            " 3   pagesNumber            float64\n",
            " 4   RatingDist4            object \n",
            " 5   RatingDistTotal        object \n",
            " 6   PublishMonth           float64\n",
            " 7   PublishDay             float64\n",
            " 8   Publisher              object \n",
            " 9   CountsOfReview         float64\n",
            " 10  PublishYear            float64\n",
            " 11  Language               object \n",
            " 12  Authors                object \n",
            " 13  Rating                 object \n",
            " 14  RatingDist2            object \n",
            " 15  RatingDist5            object \n",
            " 16  ISBN                   object \n",
            " 17  RatingDist3            object \n",
            " 18  Description            object \n",
            " 19  Count of text reviews  float64\n",
            " 20  PagesNumber            float64\n",
            " 21  ID                     float64\n",
            "dtypes: float64(9), object(13)\n",
            "memory usage: 371.4+ MB\n"
          ]
        }
      ]
    },
    {
      "cell_type": "code",
      "source": [
        "# Missing Value Count Function\n",
        "def show_missing():\n",
        "    missing = merged_df.columns[merged_df.isnull().any()].tolist()\n",
        "    return missing\n",
        "\n",
        "# Missing data counts and percentage\n",
        "print('Missing Data Count')\n",
        "print(merged_df[show_missing()].isnull().sum().sort_values(ascending = False))\n",
        "print('--'*50)\n",
        "print('Missing Data Percentage')\n",
        "print(round(merged_df[show_missing()].isnull().sum().sort_values(ascending = False)/len(merged_df)*100,2))"
      ],
      "metadata": {
        "id": "irGAYVMPvAS-",
        "colab": {
          "base_uri": "https://localhost:8080/"
        },
        "outputId": "70e98261-776d-4143-9b8b-08c198e9271b"
      },
      "execution_count": 10,
      "outputs": [
        {
          "output_type": "stream",
          "name": "stdout",
          "text": [
            "Missing Data Count\n",
            "Language                 1961084\n",
            "ID                       1850310\n",
            "Count of text reviews    1803209\n",
            "pagesNumber              1377828\n",
            "PagesNumber              1197674\n",
            "Description              1041718\n",
            "Publisher                 380422\n",
            "ISBN                      368519\n",
            "RatingDist2               362596\n",
            "RatingDist3               362596\n",
            "RatingDist5               362596\n",
            "Authors                   362596\n",
            "RatingDist4               362596\n",
            "RatingDist1               362596\n",
            "PublishYear               362596\n",
            "CountsOfReview            362596\n",
            "PublishDay                362596\n",
            "PublishMonth              362596\n",
            "RatingDistTotal           362596\n",
            "Id                        362596\n",
            "dtype: int64\n",
            "----------------------------------------------------------------------------------------------------\n",
            "Missing Data Percentage\n",
            "Language                 88.62\n",
            "ID                       83.61\n",
            "Count of text reviews    81.49\n",
            "pagesNumber              62.26\n",
            "PagesNumber              54.12\n",
            "Description              47.07\n",
            "Publisher                17.19\n",
            "ISBN                     16.65\n",
            "RatingDist2              16.39\n",
            "RatingDist3              16.39\n",
            "RatingDist5              16.39\n",
            "Authors                  16.39\n",
            "RatingDist4              16.39\n",
            "RatingDist1              16.39\n",
            "PublishYear              16.39\n",
            "CountsOfReview           16.39\n",
            "PublishDay               16.39\n",
            "PublishMonth             16.39\n",
            "RatingDistTotal          16.39\n",
            "Id                       16.39\n",
            "dtype: float64\n"
          ]
        }
      ]
    },
    {
      "cell_type": "markdown",
      "source": [
        "###Handling missing values"
      ],
      "metadata": {
        "id": "fU5XSv4mv6kS"
      }
    },
    {
      "cell_type": "markdown",
      "source": [
        "###We will drop null values which is more than 50%"
      ],
      "metadata": {
        "id": "1CGJz43zxVqm"
      }
    },
    {
      "cell_type": "code",
      "source": [
        "# Drop columns with more than 50% null values\n",
        "merged_df.drop(columns=['Language', 'ID', 'Count of text reviews', 'pagesNumber', 'PagesNumber'], inplace=True)"
      ],
      "metadata": {
        "id": "o-kn7p_SxHm4"
      },
      "execution_count": 11,
      "outputs": []
    },
    {
      "cell_type": "code",
      "source": [
        "merged_df['Description'].value_counts()"
      ],
      "metadata": {
        "id": "4I9vZEJzxbeW",
        "colab": {
          "base_uri": "https://localhost:8080/"
        },
        "outputId": "f820349f-1edb-4aad-8044-47a770b5b1f9"
      },
      "execution_count": 12,
      "outputs": [
        {
          "output_type": "execute_result",
          "data": {
            "text/plain": [
              "Description\n",
              "This scarce antiquarian book is a facsimile reprint of the original. Due to its age, it may contain imperfections such as marks, notations, marginalia and flawed pages. Because we believe this work is culturally important, we have made it available as part of our commitment for protecting, preserving, and promoting the world's literature in affordable, high quality, modern editions that are true to the original work.                                                                                                                                                                                                                                                                                                                                                                                                                                                                                                                                                                                                                                                                                                                                                                                                                                                                                                                                                                                                                                                                                                                                                                                                                                                                            4951\n",
              "Many of the earliest books, particularly those dating back to the 1900s and before, are now extremely scarce and increasingly expensive. We are republishing these classic works in affordable, high quality, modern editions, using the original text and artwork.                                                                                                                                                                                                                                                                                                                                                                                                                                                                                                                                                                                                                                                                                                                                                                                                                                                                                                                                                                                                                                                                                                                                                                                                                                                                                                                                                                                                                                             1395\n",
              "This is a pre-1923 historical reproduction that was curated for quality. Quality assurance was conducted on each of these books in an attempt to remove books with imperfections introduced by the digitization process. Though we have made best efforts - the books may have occasional errors that do not impede the reading experience. We believe this work is culturally important and have elected to bring the book back into print as part of our continuing commitment to the preservation of printed works worldwide.                                                                                                                                                                                                                                                                                                                                                                                                                                                                                                                                                                                                                                                                                                                                                                                                                                                                                                                                                                                                                                                                                                                                                                                1064\n",
              "This work has been selected by scholars as being culturally important, and is part of the knowledge base of civilization as we know it. This work was reproduced from the original artifact, and remains as true to the original work as possible. Therefore, you will see the original copyright references, library stamps (as most of these works have been housed in our most important libraries around the world), and other notations in the work. This work is in the public domain in the United States of America, and possibly other nations. Within the United States, you may freely copy and distribute this work, as no entity (individual or corporate) has a copyright on the body of the work.As a reproduction of a historical artifact, this work may contain missing or blurred pages, poor pictures, errant marks, etc. Scholars believe, and we concur, that this work is important enough to be preserved, reproduced, and made generally available to the public. We appreciate your support of the preservation process, and thank you for being an important part of keeping this knowledge alive and relevant.                                                                                                                                                                                                                                                                                                                                                                                                                                                                                                                                                                       326\n",
              "To find more information about Rowman and Littlefield titles, please visit <a target=\"_blank\" rel=\"noopener nofollow\" href=\"http://www.rowmanlittlefield.com\">www.rowmanlittlefield.com</a>.                                                                                                                                                                                                                                                                                                                                                                                                                                                                                                                                                                                                                                                                                                                                                                                                                                                                                                                                                                                                                                                                                                                                                                                                                                                                                                                                                                                                                                                                                                                     313\n",
              "                                                                                                                                                                                                                                                                                                                                                                                                                                                                                                                                                                                                                                                                                                                                                                                                                                                                                                                                                                                                                                                                                                                                                                                                                                                                                                                                                                                                                                                                                                                                                                                                                                                                                                                ... \n",
              "Describes the history of comic books and comic book publishing, including information on the beginnings of the Superman and Spiderman comics. In addition, provides an introduction on drawing comics, and explains what the manga style is.                                                                                                                                                                                                                                                                                                                                                                                                                                                                                                                                                                                                                                                                                                                                                                                                                                                                                                                                                                                                                                                                                                                                                                                                                                                                                                                                                                                                                                                                       1\n",
              "The \"shoulder-hand syndrome\" or pain in the shoulder or arm is an extremely vital subject for the multi-disciplinary approach and usually re quires more than one speciality for complete evaluation. The proceedings of this symposium - organized by the department of general surgery of the University of Limburg - cover the field thoroughly with contributions from outstanding specialists from all over the world. Rheumatological, neuro surgical, orthopedic, and traumatological aspects are covered. Vascular surgeons considering both venous and arterial problems entwine with thoracic surgeons to review the thoracic outlet problem. Establishing a diagnosis in this multi-disciplinary field is extremely important and encom passes a combination of disciplines including neurology, orthopedics, sur gery, and physical medicine. Likewise, the role of each contributing factor must be assessed when multiple sources were responsible for pain. In addition to adequate diagnosis, it is important to institute the appropriate therapy and to establish the proper priority and timing of such therapies. The follow-up techniques particularly regarding thoracic outlet syndrome are extremely important to provide an objective basis for evaluation. Although many advances have been made in the field of objective diagnosis and therapy, there still is a great deal of overlap and confusion which has to be clarified. Professor Greep and his organizing committee have done a wonderful job in composing a program covering all aspects of this field. They are to be congratulated on bringing us a \"timely current status\" report on pain in the shoulder and arm.\"       1\n",
              "Sara And The Rogue by Deloras Scott released on Nov 23, 2001 is available now for purchase.                                                                                                                                                                                                                                                                                                                                                                                                                                                                                                                                                                                                                                                                                                                                                                                                                                                                                                                                                                                                                                                                                                                                                                                                                                                                                                                                                                                                                                                                                                                                                                                                                        1\n",
              "Antoinette Huntington Was On The Run<br />Her husband had been murdered. And the British duchess had fled her native land, hoping to disappear into the vast American West. But nothing she knew about \"The Colonies\" had prepared her for the wild, open land or characters like Nate Bishop. A man with a past, who was determined to become her future!<br /><br />One look at Ann Huntington and Nate knew he was in for trouble. The lady was obviously not what she said she was. Yet the more she kept her distance, the more he wanted to uncover all her secrets and find out just what kind of a woman Miss Huntington really was….                                                                                                                                                                                                                                                                                                                                                                                                                                                                                                                                                                                                                                                                                                                                                                                                                                                                                                                                                                                                                                                                      1\n",
              "<i>Would You Rather...?</i> takes the idea of parlor game questions to a new level of debate and lunacy. It's a chunky book of 400 questions that range from the heinous to the nauseating to the downright disturbing, each a field-tested conversation starter—because no matter how strange or far-fetched, <i>Would You Rather...?</i> knows that choice provokes thinking, and thinking is fun.<br /><br /> Some questions, like a Rorschach test, reveal values: Would you rather . . . Age only from the neck up -OR- age only from the neck down? Be stupid and rich -OR- smart and poor? Some delight in their own grossness: Eat three earthworms -OR- wear a necklace made of them on your wedding day? Be trapped in an elevator with wet dogs -OR- three fat men with bad breath? Some churn up prejudices: Lose your mate to the same sex as yourself -OR- the opposite sex? Some create that squirming sensation: Get a bad case of poison ivy way up inside your nose -OR- inside your inner ear? Or ethical dilemmas: Be president of a firm that poaches endangered species -OR- work for a corrupt politician? And some are just deliciously absurd: Catch a porcupine thrown from a second-story window -OR- a skunk thrown from the same window? Each question is followed up with related, often off-the-wall information, from odd trivia to dumb jokes to the occasional practical advice (go for the skunk—the porcupine's got 30,000 quills, while tomato juice will take away the skunk smell).                                                                                                                                                                                         1\n",
              "Name: count, Length: 1083697, dtype: int64"
            ]
          },
          "metadata": {},
          "execution_count": 12
        }
      ]
    },
    {
      "cell_type": "code",
      "source": [
        "# Replace missing values in 'Description' column with a placeholder string\n",
        "merged_df['Description'].fillna(\"Description not available\", inplace=True)"
      ],
      "metadata": {
        "id": "2lDfyU0gxqSW"
      },
      "execution_count": 13,
      "outputs": []
    },
    {
      "cell_type": "code",
      "source": [
        "merged_df['Description'].isnull().sum()"
      ],
      "metadata": {
        "id": "l2tTSv8YyCuG",
        "colab": {
          "base_uri": "https://localhost:8080/"
        },
        "outputId": "f0828344-19d1-41bc-eafd-feb72b8b34bd"
      },
      "execution_count": 14,
      "outputs": [
        {
          "output_type": "execute_result",
          "data": {
            "text/plain": [
              "0"
            ]
          },
          "metadata": {},
          "execution_count": 14
        }
      ]
    },
    {
      "cell_type": "code",
      "source": [
        "merged_df['Publisher'].value_counts()"
      ],
      "metadata": {
        "id": "Gf-dwfloyGwF",
        "colab": {
          "base_uri": "https://localhost:8080/"
        },
        "outputId": "cc8c7308-cf93-4a66-a121-b99eff00b32a"
      },
      "execution_count": 15,
      "outputs": [
        {
          "output_type": "execute_result",
          "data": {
            "text/plain": [
              "Publisher\n",
              "Routledge                       37645\n",
              "Springer                        35810\n",
              "Oxford University Press, USA    26988\n",
              "Cambridge University Press      25958\n",
              "Wiley                           12139\n",
              "                                ...  \n",
              "Ta Ha Publishers Ltd.               1\n",
              "Hodder Christian Paperbacks         1\n",
              "Maverick Distributors               1\n",
              "Iqbal Academy                       1\n",
              "Pilgrims Process, Inc.              1\n",
              "Name: count, Length: 79422, dtype: int64"
            ]
          },
          "metadata": {},
          "execution_count": 15
        }
      ]
    },
    {
      "cell_type": "code",
      "source": [
        "# Find the most frequent publisher\n",
        "most_frequent_publisher = merged_df['Publisher'].mode()[0]"
      ],
      "metadata": {
        "id": "CxkoW_ipyRBF"
      },
      "execution_count": 16,
      "outputs": []
    },
    {
      "cell_type": "code",
      "source": [
        "# Replace missing values with the most frequent publisher\n",
        "merged_df['Publisher'].fillna(most_frequent_publisher, inplace=True)"
      ],
      "metadata": {
        "id": "uv_6qLlKyhvE"
      },
      "execution_count": 17,
      "outputs": []
    },
    {
      "cell_type": "code",
      "source": [
        "merged_df['Publisher'].isnull().sum()"
      ],
      "metadata": {
        "id": "CNAXOTxiyjBU",
        "colab": {
          "base_uri": "https://localhost:8080/"
        },
        "outputId": "9f34eb8a-0ce8-4027-add1-3c7392f0b1b7"
      },
      "execution_count": 18,
      "outputs": [
        {
          "output_type": "execute_result",
          "data": {
            "text/plain": [
              "0"
            ]
          },
          "metadata": {},
          "execution_count": 18
        }
      ]
    },
    {
      "cell_type": "code",
      "source": [
        "columns = ['ISBN', 'RatingDist2', 'RatingDist3', 'RatingDist5', 'Authors', 'RatingDist4', 'RatingDist1', 'PublishYear', 'CountsOfReview', 'PublishDay', 'PublishMonth', 'RatingDistTotal', 'Id']"
      ],
      "metadata": {
        "id": "QECNh4IAylhm"
      },
      "execution_count": 19,
      "outputs": []
    },
    {
      "cell_type": "code",
      "source": [
        "# Impute with placeholder for categorical columns\n",
        "merged_df['ISBN'].fillna(\"Unknown\", inplace=True)\n",
        "merged_df['RatingDist2'].fillna(\"Unknown\", inplace=True)\n",
        "merged_df['RatingDist3'].fillna(\"Unknown\", inplace=True)\n",
        "merged_df['RatingDist4'].fillna(\"Unknown\", inplace=True)\n",
        "merged_df['RatingDist5'].fillna(\"Unknown\", inplace=True)\n",
        "merged_df['Authors'].fillna(\"Unknown\", inplace=True)\n",
        "merged_df['RatingDist1'].fillna(\"Unknown\", inplace=True)\n",
        "merged_df['RatingDistTotal'].fillna(\"Unknown\", inplace=True)\n",
        "\n",
        "# Impute with mean for numerical columns\n",
        "merged_df['PublishYear'].fillna(merged_df['PublishYear'].mean(), inplace=True)\n",
        "merged_df['CountsOfReview'].fillna(merged_df['CountsOfReview'].mean(), inplace=True)\n",
        "merged_df['PublishDay'].fillna(merged_df['PublishDay'].mean(), inplace=True)\n",
        "merged_df['PublishMonth'].fillna(merged_df['PublishMonth'].mean(), inplace=True)\n",
        "merged_df['Id'].fillna(merged_df['Id'].mean(), inplace=True)"
      ],
      "metadata": {
        "id": "md82SO6yzVSV"
      },
      "execution_count": 20,
      "outputs": []
    },
    {
      "cell_type": "code",
      "source": [
        "merged_df.isnull().sum()"
      ],
      "metadata": {
        "id": "BZ3HL-xpz2BA",
        "colab": {
          "base_uri": "https://localhost:8080/"
        },
        "outputId": "9c84a01f-e2df-4a05-d930-abd090bed146"
      },
      "execution_count": 21,
      "outputs": [
        {
          "output_type": "execute_result",
          "data": {
            "text/plain": [
              "Id                 0\n",
              "Name               0\n",
              "RatingDist1        0\n",
              "RatingDist4        0\n",
              "RatingDistTotal    0\n",
              "PublishMonth       0\n",
              "PublishDay         0\n",
              "Publisher          0\n",
              "CountsOfReview     0\n",
              "PublishYear        0\n",
              "Authors            0\n",
              "Rating             0\n",
              "RatingDist2        0\n",
              "RatingDist5        0\n",
              "ISBN               0\n",
              "RatingDist3        0\n",
              "Description        0\n",
              "dtype: int64"
            ]
          },
          "metadata": {},
          "execution_count": 21
        }
      ]
    },
    {
      "cell_type": "code",
      "source": [
        "merged_df.head()"
      ],
      "metadata": {
        "id": "NG0CCus50DV_",
        "colab": {
          "base_uri": "https://localhost:8080/",
          "height": 712
        },
        "outputId": "4a54e500-46c3-43b1-8d27-3af890af7297"
      },
      "execution_count": 22,
      "outputs": [
        {
          "output_type": "execute_result",
          "data": {
            "text/plain": [
              "    Id                                               Name RatingDist1  \\\n",
              "0  1.0  Harry Potter and the Half-Blood Prince (Harry ...      1:9896   \n",
              "1  2.0  Harry Potter and the Order of the Phoenix (Har...     1:12455   \n",
              "2  3.0  Harry Potter and the Sorcerer's Stone (Harry P...    1:108202   \n",
              "3  4.0  Harry Potter and the Chamber of Secrets (Harry...     1:11896   \n",
              "4  5.0  Harry Potter and the Prisoner of Azkaban (Harr...     1:10128   \n",
              "\n",
              "  RatingDist4 RatingDistTotal  PublishMonth  PublishDay        Publisher  \\\n",
              "0    4:556485   total:2298124          16.0         9.0  Scholastic Inc.   \n",
              "1    4:604283   total:2358637           1.0         9.0  Scholastic Inc.   \n",
              "2   4:1513191   total:6587388           1.0        11.0   Scholastic Inc   \n",
              "3    4:706082   total:2560657           1.0        11.0       Scholastic   \n",
              "4    4:630534   total:2610317           1.0         5.0  Scholastic Inc.   \n",
              "\n",
              "   CountsOfReview  PublishYear       Authors Rating RatingDist2 RatingDist5  \\\n",
              "0         28062.0       2006.0  J.K. Rowling   4.57     2:25317   5:1546466   \n",
              "1         29770.0       2004.0  J.K. Rowling    4.5     2:37005   5:1493113   \n",
              "2         75911.0       2003.0  J.K. Rowling   4.47    2:130310   5:4268227   \n",
              "3           244.0       2003.0  J.K. Rowling   4.42     2:49353   5:1504505   \n",
              "4         37093.0       2004.0  J.K. Rowling   4.57     2:24849   5:1749958   \n",
              "\n",
              "         ISBN RatingDist3                Description  \n",
              "0     Unknown    3:159960  Description not available  \n",
              "1  0439358078    3:211781  Description not available  \n",
              "2     Unknown    3:567458  Description not available  \n",
              "3  0439554896    3:288821  Description not available  \n",
              "4  043965548X    3:194848  Description not available  "
            ],
            "text/html": [
              "\n",
              "  <div id=\"df-970ae0ef-8cc0-4df1-b9f7-d56c32a26235\" class=\"colab-df-container\">\n",
              "    <div>\n",
              "<style scoped>\n",
              "    .dataframe tbody tr th:only-of-type {\n",
              "        vertical-align: middle;\n",
              "    }\n",
              "\n",
              "    .dataframe tbody tr th {\n",
              "        vertical-align: top;\n",
              "    }\n",
              "\n",
              "    .dataframe thead th {\n",
              "        text-align: right;\n",
              "    }\n",
              "</style>\n",
              "<table border=\"1\" class=\"dataframe\">\n",
              "  <thead>\n",
              "    <tr style=\"text-align: right;\">\n",
              "      <th></th>\n",
              "      <th>Id</th>\n",
              "      <th>Name</th>\n",
              "      <th>RatingDist1</th>\n",
              "      <th>RatingDist4</th>\n",
              "      <th>RatingDistTotal</th>\n",
              "      <th>PublishMonth</th>\n",
              "      <th>PublishDay</th>\n",
              "      <th>Publisher</th>\n",
              "      <th>CountsOfReview</th>\n",
              "      <th>PublishYear</th>\n",
              "      <th>Authors</th>\n",
              "      <th>Rating</th>\n",
              "      <th>RatingDist2</th>\n",
              "      <th>RatingDist5</th>\n",
              "      <th>ISBN</th>\n",
              "      <th>RatingDist3</th>\n",
              "      <th>Description</th>\n",
              "    </tr>\n",
              "  </thead>\n",
              "  <tbody>\n",
              "    <tr>\n",
              "      <th>0</th>\n",
              "      <td>1.0</td>\n",
              "      <td>Harry Potter and the Half-Blood Prince (Harry ...</td>\n",
              "      <td>1:9896</td>\n",
              "      <td>4:556485</td>\n",
              "      <td>total:2298124</td>\n",
              "      <td>16.0</td>\n",
              "      <td>9.0</td>\n",
              "      <td>Scholastic Inc.</td>\n",
              "      <td>28062.0</td>\n",
              "      <td>2006.0</td>\n",
              "      <td>J.K. Rowling</td>\n",
              "      <td>4.57</td>\n",
              "      <td>2:25317</td>\n",
              "      <td>5:1546466</td>\n",
              "      <td>Unknown</td>\n",
              "      <td>3:159960</td>\n",
              "      <td>Description not available</td>\n",
              "    </tr>\n",
              "    <tr>\n",
              "      <th>1</th>\n",
              "      <td>2.0</td>\n",
              "      <td>Harry Potter and the Order of the Phoenix (Har...</td>\n",
              "      <td>1:12455</td>\n",
              "      <td>4:604283</td>\n",
              "      <td>total:2358637</td>\n",
              "      <td>1.0</td>\n",
              "      <td>9.0</td>\n",
              "      <td>Scholastic Inc.</td>\n",
              "      <td>29770.0</td>\n",
              "      <td>2004.0</td>\n",
              "      <td>J.K. Rowling</td>\n",
              "      <td>4.5</td>\n",
              "      <td>2:37005</td>\n",
              "      <td>5:1493113</td>\n",
              "      <td>0439358078</td>\n",
              "      <td>3:211781</td>\n",
              "      <td>Description not available</td>\n",
              "    </tr>\n",
              "    <tr>\n",
              "      <th>2</th>\n",
              "      <td>3.0</td>\n",
              "      <td>Harry Potter and the Sorcerer's Stone (Harry P...</td>\n",
              "      <td>1:108202</td>\n",
              "      <td>4:1513191</td>\n",
              "      <td>total:6587388</td>\n",
              "      <td>1.0</td>\n",
              "      <td>11.0</td>\n",
              "      <td>Scholastic Inc</td>\n",
              "      <td>75911.0</td>\n",
              "      <td>2003.0</td>\n",
              "      <td>J.K. Rowling</td>\n",
              "      <td>4.47</td>\n",
              "      <td>2:130310</td>\n",
              "      <td>5:4268227</td>\n",
              "      <td>Unknown</td>\n",
              "      <td>3:567458</td>\n",
              "      <td>Description not available</td>\n",
              "    </tr>\n",
              "    <tr>\n",
              "      <th>3</th>\n",
              "      <td>4.0</td>\n",
              "      <td>Harry Potter and the Chamber of Secrets (Harry...</td>\n",
              "      <td>1:11896</td>\n",
              "      <td>4:706082</td>\n",
              "      <td>total:2560657</td>\n",
              "      <td>1.0</td>\n",
              "      <td>11.0</td>\n",
              "      <td>Scholastic</td>\n",
              "      <td>244.0</td>\n",
              "      <td>2003.0</td>\n",
              "      <td>J.K. Rowling</td>\n",
              "      <td>4.42</td>\n",
              "      <td>2:49353</td>\n",
              "      <td>5:1504505</td>\n",
              "      <td>0439554896</td>\n",
              "      <td>3:288821</td>\n",
              "      <td>Description not available</td>\n",
              "    </tr>\n",
              "    <tr>\n",
              "      <th>4</th>\n",
              "      <td>5.0</td>\n",
              "      <td>Harry Potter and the Prisoner of Azkaban (Harr...</td>\n",
              "      <td>1:10128</td>\n",
              "      <td>4:630534</td>\n",
              "      <td>total:2610317</td>\n",
              "      <td>1.0</td>\n",
              "      <td>5.0</td>\n",
              "      <td>Scholastic Inc.</td>\n",
              "      <td>37093.0</td>\n",
              "      <td>2004.0</td>\n",
              "      <td>J.K. Rowling</td>\n",
              "      <td>4.57</td>\n",
              "      <td>2:24849</td>\n",
              "      <td>5:1749958</td>\n",
              "      <td>043965548X</td>\n",
              "      <td>3:194848</td>\n",
              "      <td>Description not available</td>\n",
              "    </tr>\n",
              "  </tbody>\n",
              "</table>\n",
              "</div>\n",
              "    <div class=\"colab-df-buttons\">\n",
              "\n",
              "  <div class=\"colab-df-container\">\n",
              "    <button class=\"colab-df-convert\" onclick=\"convertToInteractive('df-970ae0ef-8cc0-4df1-b9f7-d56c32a26235')\"\n",
              "            title=\"Convert this dataframe to an interactive table.\"\n",
              "            style=\"display:none;\">\n",
              "\n",
              "  <svg xmlns=\"http://www.w3.org/2000/svg\" height=\"24px\" viewBox=\"0 -960 960 960\">\n",
              "    <path d=\"M120-120v-720h720v720H120Zm60-500h600v-160H180v160Zm220 220h160v-160H400v160Zm0 220h160v-160H400v160ZM180-400h160v-160H180v160Zm440 0h160v-160H620v160ZM180-180h160v-160H180v160Zm440 0h160v-160H620v160Z\"/>\n",
              "  </svg>\n",
              "    </button>\n",
              "\n",
              "  <style>\n",
              "    .colab-df-container {\n",
              "      display:flex;\n",
              "      gap: 12px;\n",
              "    }\n",
              "\n",
              "    .colab-df-convert {\n",
              "      background-color: #E8F0FE;\n",
              "      border: none;\n",
              "      border-radius: 50%;\n",
              "      cursor: pointer;\n",
              "      display: none;\n",
              "      fill: #1967D2;\n",
              "      height: 32px;\n",
              "      padding: 0 0 0 0;\n",
              "      width: 32px;\n",
              "    }\n",
              "\n",
              "    .colab-df-convert:hover {\n",
              "      background-color: #E2EBFA;\n",
              "      box-shadow: 0px 1px 2px rgba(60, 64, 67, 0.3), 0px 1px 3px 1px rgba(60, 64, 67, 0.15);\n",
              "      fill: #174EA6;\n",
              "    }\n",
              "\n",
              "    .colab-df-buttons div {\n",
              "      margin-bottom: 4px;\n",
              "    }\n",
              "\n",
              "    [theme=dark] .colab-df-convert {\n",
              "      background-color: #3B4455;\n",
              "      fill: #D2E3FC;\n",
              "    }\n",
              "\n",
              "    [theme=dark] .colab-df-convert:hover {\n",
              "      background-color: #434B5C;\n",
              "      box-shadow: 0px 1px 3px 1px rgba(0, 0, 0, 0.15);\n",
              "      filter: drop-shadow(0px 1px 2px rgba(0, 0, 0, 0.3));\n",
              "      fill: #FFFFFF;\n",
              "    }\n",
              "  </style>\n",
              "\n",
              "    <script>\n",
              "      const buttonEl =\n",
              "        document.querySelector('#df-970ae0ef-8cc0-4df1-b9f7-d56c32a26235 button.colab-df-convert');\n",
              "      buttonEl.style.display =\n",
              "        google.colab.kernel.accessAllowed ? 'block' : 'none';\n",
              "\n",
              "      async function convertToInteractive(key) {\n",
              "        const element = document.querySelector('#df-970ae0ef-8cc0-4df1-b9f7-d56c32a26235');\n",
              "        const dataTable =\n",
              "          await google.colab.kernel.invokeFunction('convertToInteractive',\n",
              "                                                    [key], {});\n",
              "        if (!dataTable) return;\n",
              "\n",
              "        const docLinkHtml = 'Like what you see? Visit the ' +\n",
              "          '<a target=\"_blank\" href=https://colab.research.google.com/notebooks/data_table.ipynb>data table notebook</a>'\n",
              "          + ' to learn more about interactive tables.';\n",
              "        element.innerHTML = '';\n",
              "        dataTable['output_type'] = 'display_data';\n",
              "        await google.colab.output.renderOutput(dataTable, element);\n",
              "        const docLink = document.createElement('div');\n",
              "        docLink.innerHTML = docLinkHtml;\n",
              "        element.appendChild(docLink);\n",
              "      }\n",
              "    </script>\n",
              "  </div>\n",
              "\n",
              "\n",
              "<div id=\"df-7724f7aa-cc44-4284-bf0e-80f2a1b9c755\">\n",
              "  <button class=\"colab-df-quickchart\" onclick=\"quickchart('df-7724f7aa-cc44-4284-bf0e-80f2a1b9c755')\"\n",
              "            title=\"Suggest charts\"\n",
              "            style=\"display:none;\">\n",
              "\n",
              "<svg xmlns=\"http://www.w3.org/2000/svg\" height=\"24px\"viewBox=\"0 0 24 24\"\n",
              "     width=\"24px\">\n",
              "    <g>\n",
              "        <path d=\"M19 3H5c-1.1 0-2 .9-2 2v14c0 1.1.9 2 2 2h14c1.1 0 2-.9 2-2V5c0-1.1-.9-2-2-2zM9 17H7v-7h2v7zm4 0h-2V7h2v10zm4 0h-2v-4h2v4z\"/>\n",
              "    </g>\n",
              "</svg>\n",
              "  </button>\n",
              "\n",
              "<style>\n",
              "  .colab-df-quickchart {\n",
              "      --bg-color: #E8F0FE;\n",
              "      --fill-color: #1967D2;\n",
              "      --hover-bg-color: #E2EBFA;\n",
              "      --hover-fill-color: #174EA6;\n",
              "      --disabled-fill-color: #AAA;\n",
              "      --disabled-bg-color: #DDD;\n",
              "  }\n",
              "\n",
              "  [theme=dark] .colab-df-quickchart {\n",
              "      --bg-color: #3B4455;\n",
              "      --fill-color: #D2E3FC;\n",
              "      --hover-bg-color: #434B5C;\n",
              "      --hover-fill-color: #FFFFFF;\n",
              "      --disabled-bg-color: #3B4455;\n",
              "      --disabled-fill-color: #666;\n",
              "  }\n",
              "\n",
              "  .colab-df-quickchart {\n",
              "    background-color: var(--bg-color);\n",
              "    border: none;\n",
              "    border-radius: 50%;\n",
              "    cursor: pointer;\n",
              "    display: none;\n",
              "    fill: var(--fill-color);\n",
              "    height: 32px;\n",
              "    padding: 0;\n",
              "    width: 32px;\n",
              "  }\n",
              "\n",
              "  .colab-df-quickchart:hover {\n",
              "    background-color: var(--hover-bg-color);\n",
              "    box-shadow: 0 1px 2px rgba(60, 64, 67, 0.3), 0 1px 3px 1px rgba(60, 64, 67, 0.15);\n",
              "    fill: var(--button-hover-fill-color);\n",
              "  }\n",
              "\n",
              "  .colab-df-quickchart-complete:disabled,\n",
              "  .colab-df-quickchart-complete:disabled:hover {\n",
              "    background-color: var(--disabled-bg-color);\n",
              "    fill: var(--disabled-fill-color);\n",
              "    box-shadow: none;\n",
              "  }\n",
              "\n",
              "  .colab-df-spinner {\n",
              "    border: 2px solid var(--fill-color);\n",
              "    border-color: transparent;\n",
              "    border-bottom-color: var(--fill-color);\n",
              "    animation:\n",
              "      spin 1s steps(1) infinite;\n",
              "  }\n",
              "\n",
              "  @keyframes spin {\n",
              "    0% {\n",
              "      border-color: transparent;\n",
              "      border-bottom-color: var(--fill-color);\n",
              "      border-left-color: var(--fill-color);\n",
              "    }\n",
              "    20% {\n",
              "      border-color: transparent;\n",
              "      border-left-color: var(--fill-color);\n",
              "      border-top-color: var(--fill-color);\n",
              "    }\n",
              "    30% {\n",
              "      border-color: transparent;\n",
              "      border-left-color: var(--fill-color);\n",
              "      border-top-color: var(--fill-color);\n",
              "      border-right-color: var(--fill-color);\n",
              "    }\n",
              "    40% {\n",
              "      border-color: transparent;\n",
              "      border-right-color: var(--fill-color);\n",
              "      border-top-color: var(--fill-color);\n",
              "    }\n",
              "    60% {\n",
              "      border-color: transparent;\n",
              "      border-right-color: var(--fill-color);\n",
              "    }\n",
              "    80% {\n",
              "      border-color: transparent;\n",
              "      border-right-color: var(--fill-color);\n",
              "      border-bottom-color: var(--fill-color);\n",
              "    }\n",
              "    90% {\n",
              "      border-color: transparent;\n",
              "      border-bottom-color: var(--fill-color);\n",
              "    }\n",
              "  }\n",
              "</style>\n",
              "\n",
              "  <script>\n",
              "    async function quickchart(key) {\n",
              "      const quickchartButtonEl =\n",
              "        document.querySelector('#' + key + ' button');\n",
              "      quickchartButtonEl.disabled = true;  // To prevent multiple clicks.\n",
              "      quickchartButtonEl.classList.add('colab-df-spinner');\n",
              "      try {\n",
              "        const charts = await google.colab.kernel.invokeFunction(\n",
              "            'suggestCharts', [key], {});\n",
              "      } catch (error) {\n",
              "        console.error('Error during call to suggestCharts:', error);\n",
              "      }\n",
              "      quickchartButtonEl.classList.remove('colab-df-spinner');\n",
              "      quickchartButtonEl.classList.add('colab-df-quickchart-complete');\n",
              "    }\n",
              "    (() => {\n",
              "      let quickchartButtonEl =\n",
              "        document.querySelector('#df-7724f7aa-cc44-4284-bf0e-80f2a1b9c755 button');\n",
              "      quickchartButtonEl.style.display =\n",
              "        google.colab.kernel.accessAllowed ? 'block' : 'none';\n",
              "    })();\n",
              "  </script>\n",
              "</div>\n",
              "\n",
              "    </div>\n",
              "  </div>\n"
            ],
            "application/vnd.google.colaboratory.intrinsic+json": {
              "type": "dataframe",
              "variable_name": "merged_df"
            }
          },
          "metadata": {},
          "execution_count": 22
        }
      ]
    },
    {
      "cell_type": "code",
      "source": [
        "merged_df.info()"
      ],
      "metadata": {
        "id": "v3YKcVW51XU8",
        "colab": {
          "base_uri": "https://localhost:8080/"
        },
        "outputId": "e633c352-7905-4f0e-e993-5e4a7533ee29"
      },
      "execution_count": 23,
      "outputs": [
        {
          "output_type": "stream",
          "name": "stdout",
          "text": [
            "<class 'pandas.core.frame.DataFrame'>\n",
            "RangeIndex: 2212906 entries, 0 to 2212905\n",
            "Data columns (total 17 columns):\n",
            " #   Column           Dtype  \n",
            "---  ------           -----  \n",
            " 0   Id               float64\n",
            " 1   Name             object \n",
            " 2   RatingDist1      object \n",
            " 3   RatingDist4      object \n",
            " 4   RatingDistTotal  object \n",
            " 5   PublishMonth     float64\n",
            " 6   PublishDay       float64\n",
            " 7   Publisher        object \n",
            " 8   CountsOfReview   float64\n",
            " 9   PublishYear      float64\n",
            " 10  Authors          object \n",
            " 11  Rating           object \n",
            " 12  RatingDist2      object \n",
            " 13  RatingDist5      object \n",
            " 14  ISBN             object \n",
            " 15  RatingDist3      object \n",
            " 16  Description      object \n",
            "dtypes: float64(5), object(12)\n",
            "memory usage: 287.0+ MB\n"
          ]
        }
      ]
    },
    {
      "cell_type": "markdown",
      "source": [
        "###EDA"
      ],
      "metadata": {
        "id": "X97FLjy314PU"
      }
    },
    {
      "cell_type": "code",
      "source": [
        "plt.figure(figsize=(10,6))\n",
        "merged_df['Publisher'].value_counts().head(10).plot(kind='bar')\n",
        "plt.xlabel('Publisher')\n",
        "plt.ylabel('Count')\n",
        "plt.title('Top 10 Publishers')\n",
        "plt.show()"
      ],
      "metadata": {
        "id": "b52m0dRn12gL",
        "colab": {
          "base_uri": "https://localhost:8080/",
          "height": 973
        },
        "outputId": "0679f977-aff6-4881-e5f3-0742fbc93de8"
      },
      "execution_count": 24,
      "outputs": [
        {
          "output_type": "display_data",
          "data": {
            "text/plain": [
              "<Figure size 1000x600 with 1 Axes>"
            ],
            "image/png": "[encoded data removed]"
          },
          "metadata": {}
        }
      ]
    },
    {
      "cell_type": "markdown",
      "source": [
        "###Convert Data Types"
      ],
      "metadata": {
        "id": "wqJW6eSfBlpb"
      }
    },
    {
      "cell_type": "code",
      "source": [
        "# Convert columns to appropriate data types after handling NaN values\n",
        "merged_df['RatingDist1'] = merged_df['RatingDist1'].str.split(':').str[1].fillna(0).astype(int)\n",
        "merged_df['RatingDist2'] = merged_df['RatingDist2'].str.split(':').str[1].fillna(0).astype(int)\n",
        "merged_df['RatingDist3'] = merged_df['RatingDist3'].str.split(':').str[1].fillna(0).astype(int)\n",
        "merged_df['RatingDist4'] = merged_df['RatingDist4'].str.split(':').str[1].fillna(0).astype(int)\n",
        "merged_df['RatingDist5'] = merged_df['RatingDist5'].str.split(':').str[1].fillna(0).astype(int)\n",
        "merged_df['RatingDistTotal'] = merged_df['RatingDistTotal'].str.split(':').str[1].fillna(0).astype(int)\n",
        "merged_df['PublishMonth'] = merged_df['PublishMonth'].fillna(0).astype(int)\n",
        "merged_df['PublishDay'] = merged_df['PublishDay'].fillna(0).astype(int)\n",
        "merged_df['PublishYear'] = merged_df['PublishYear'].fillna(0).astype(int)\n",
        "merged_df['CountsOfReview'] = merged_df['CountsOfReview'].fillna(0).astype(int)"
      ],
      "metadata": {
        "id": "FeZO3eQH35gW"
      },
      "execution_count": 25,
      "outputs": []
    },
    {
      "cell_type": "code",
      "source": [
        "merged_df.info()"
      ],
      "metadata": {
        "id": "nF--fV1vBpKa",
        "colab": {
          "base_uri": "https://localhost:8080/"
        },
        "outputId": "d9571171-9c70-431d-f144-839af8491dc1"
      },
      "execution_count": 26,
      "outputs": [
        {
          "output_type": "stream",
          "name": "stdout",
          "text": [
            "<class 'pandas.core.frame.DataFrame'>\n",
            "RangeIndex: 2212906 entries, 0 to 2212905\n",
            "Data columns (total 17 columns):\n",
            " #   Column           Dtype  \n",
            "---  ------           -----  \n",
            " 0   Id               float64\n",
            " 1   Name             object \n",
            " 2   RatingDist1      int64  \n",
            " 3   RatingDist4      int64  \n",
            " 4   RatingDistTotal  int64  \n",
            " 5   PublishMonth     int64  \n",
            " 6   PublishDay       int64  \n",
            " 7   Publisher        object \n",
            " 8   CountsOfReview   int64  \n",
            " 9   PublishYear      int64  \n",
            " 10  Authors          object \n",
            " 11  Rating           object \n",
            " 12  RatingDist2      int64  \n",
            " 13  RatingDist5      int64  \n",
            " 14  ISBN             object \n",
            " 15  RatingDist3      int64  \n",
            " 16  Description      object \n",
            "dtypes: float64(1), int64(10), object(6)\n",
            "memory usage: 287.0+ MB\n"
          ]
        }
      ]
    },
    {
      "cell_type": "code",
      "source": [
        "merged_df.head()"
      ],
      "metadata": {
        "id": "dH0M2noLCReY",
        "colab": {
          "base_uri": "https://localhost:8080/",
          "height": 712
        },
        "outputId": "eff80a44-2a88-4617-d4c1-8d4f2c7a9ba7"
      },
      "execution_count": 27,
      "outputs": [
        {
          "output_type": "execute_result",
          "data": {
            "text/plain": [
              "    Id                                               Name  RatingDist1  \\\n",
              "0  1.0  Harry Potter and the Half-Blood Prince (Harry ...         9896   \n",
              "1  2.0  Harry Potter and the Order of the Phoenix (Har...        12455   \n",
              "2  3.0  Harry Potter and the Sorcerer's Stone (Harry P...       108202   \n",
              "3  4.0  Harry Potter and the Chamber of Secrets (Harry...        11896   \n",
              "4  5.0  Harry Potter and the Prisoner of Azkaban (Harr...        10128   \n",
              "\n",
              "   RatingDist4  RatingDistTotal  PublishMonth  PublishDay        Publisher  \\\n",
              "0       556485          2298124            16           9  Scholastic Inc.   \n",
              "1       604283          2358637             1           9  Scholastic Inc.   \n",
              "2      1513191          6587388             1          11   Scholastic Inc   \n",
              "3       706082          2560657             1          11       Scholastic   \n",
              "4       630534          2610317             1           5  Scholastic Inc.   \n",
              "\n",
              "   CountsOfReview  PublishYear       Authors Rating  RatingDist2  RatingDist5  \\\n",
              "0           28062         2006  J.K. Rowling   4.57        25317      1546466   \n",
              "1           29770         2004  J.K. Rowling    4.5        37005      1493113   \n",
              "2           75911         2003  J.K. Rowling   4.47       130310      4268227   \n",
              "3             244         2003  J.K. Rowling   4.42        49353      1504505   \n",
              "4           37093         2004  J.K. Rowling   4.57        24849      1749958   \n",
              "\n",
              "         ISBN  RatingDist3                Description  \n",
              "0     Unknown       159960  Description not available  \n",
              "1  0439358078       211781  Description not available  \n",
              "2     Unknown       567458  Description not available  \n",
              "3  0439554896       288821  Description not available  \n",
              "4  043965548X       194848  Description not available  "
            ],
            "text/html": [
              "\n",
              "  <div id=\"df-3813c0e6-a98f-4f16-8ec2-3a2a25aea517\" class=\"colab-df-container\">\n",
              "    <div>\n",
              "<style scoped>\n",
              "    .dataframe tbody tr th:only-of-type {\n",
              "        vertical-align: middle;\n",
              "    }\n",
              "\n",
              "    .dataframe tbody tr th {\n",
              "        vertical-align: top;\n",
              "    }\n",
              "\n",
              "    .dataframe thead th {\n",
              "        text-align: right;\n",
              "    }\n",
              "</style>\n",
              "<table border=\"1\" class=\"dataframe\">\n",
              "  <thead>\n",
              "    <tr style=\"text-align: right;\">\n",
              "      <th></th>\n",
              "      <th>Id</th>\n",
              "      <th>Name</th>\n",
              "      <th>RatingDist1</th>\n",
              "      <th>RatingDist4</th>\n",
              "      <th>RatingDistTotal</th>\n",
              "      <th>PublishMonth</th>\n",
              "      <th>PublishDay</th>\n",
              "      <th>Publisher</th>\n",
              "      <th>CountsOfReview</th>\n",
              "      <th>PublishYear</th>\n",
              "      <th>Authors</th>\n",
              "      <th>Rating</th>\n",
              "      <th>RatingDist2</th>\n",
              "      <th>RatingDist5</th>\n",
              "      <th>ISBN</th>\n",
              "      <th>RatingDist3</th>\n",
              "      <th>Description</th>\n",
              "    </tr>\n",
              "  </thead>\n",
              "  <tbody>\n",
              "    <tr>\n",
              "      <th>0</th>\n",
              "      <td>1.0</td>\n",
              "      <td>Harry Potter and the Half-Blood Prince (Harry ...</td>\n",
              "      <td>9896</td>\n",
              "      <td>556485</td>\n",
              "      <td>2298124</td>\n",
              "      <td>16</td>\n",
              "      <td>9</td>\n",
              "      <td>Scholastic Inc.</td>\n",
              "      <td>28062</td>\n",
              "      <td>2006</td>\n",
              "      <td>J.K. Rowling</td>\n",
              "      <td>4.57</td>\n",
              "      <td>25317</td>\n",
              "      <td>1546466</td>\n",
              "      <td>Unknown</td>\n",
              "      <td>159960</td>\n",
              "      <td>Description not available</td>\n",
              "    </tr>\n",
              "    <tr>\n",
              "      <th>1</th>\n",
              "      <td>2.0</td>\n",
              "      <td>Harry Potter and the Order of the Phoenix (Har...</td>\n",
              "      <td>12455</td>\n",
              "      <td>604283</td>\n",
              "      <td>2358637</td>\n",
              "      <td>1</td>\n",
              "      <td>9</td>\n",
              "      <td>Scholastic Inc.</td>\n",
              "      <td>29770</td>\n",
              "      <td>2004</td>\n",
              "      <td>J.K. Rowling</td>\n",
              "      <td>4.5</td>\n",
              "      <td>37005</td>\n",
              "      <td>1493113</td>\n",
              "      <td>0439358078</td>\n",
              "      <td>211781</td>\n",
              "      <td>Description not available</td>\n",
              "    </tr>\n",
              "    <tr>\n",
              "      <th>2</th>\n",
              "      <td>3.0</td>\n",
              "      <td>Harry Potter and the Sorcerer's Stone (Harry P...</td>\n",
              "      <td>108202</td>\n",
              "      <td>1513191</td>\n",
              "      <td>6587388</td>\n",
              "      <td>1</td>\n",
              "      <td>11</td>\n",
              "      <td>Scholastic Inc</td>\n",
              "      <td>75911</td>\n",
              "      <td>2003</td>\n",
              "      <td>J.K. Rowling</td>\n",
              "      <td>4.47</td>\n",
              "      <td>130310</td>\n",
              "      <td>4268227</td>\n",
              "      <td>Unknown</td>\n",
              "      <td>567458</td>\n",
              "      <td>Description not available</td>\n",
              "    </tr>\n",
              "    <tr>\n",
              "      <th>3</th>\n",
              "      <td>4.0</td>\n",
              "      <td>Harry Potter and the Chamber of Secrets (Harry...</td>\n",
              "      <td>11896</td>\n",
              "      <td>706082</td>\n",
              "      <td>2560657</td>\n",
              "      <td>1</td>\n",
              "      <td>11</td>\n",
              "      <td>Scholastic</td>\n",
              "      <td>244</td>\n",
              "      <td>2003</td>\n",
              "      <td>J.K. Rowling</td>\n",
              "      <td>4.42</td>\n",
              "      <td>49353</td>\n",
              "      <td>1504505</td>\n",
              "      <td>0439554896</td>\n",
              "      <td>288821</td>\n",
              "      <td>Description not available</td>\n",
              "    </tr>\n",
              "    <tr>\n",
              "      <th>4</th>\n",
              "      <td>5.0</td>\n",
              "      <td>Harry Potter and the Prisoner of Azkaban (Harr...</td>\n",
              "      <td>10128</td>\n",
              "      <td>630534</td>\n",
              "      <td>2610317</td>\n",
              "      <td>1</td>\n",
              "      <td>5</td>\n",
              "      <td>Scholastic Inc.</td>\n",
              "      <td>37093</td>\n",
              "      <td>2004</td>\n",
              "      <td>J.K. Rowling</td>\n",
              "      <td>4.57</td>\n",
              "      <td>24849</td>\n",
              "      <td>1749958</td>\n",
              "      <td>043965548X</td>\n",
              "      <td>194848</td>\n",
              "      <td>Description not available</td>\n",
              "    </tr>\n",
              "  </tbody>\n",
              "</table>\n",
              "</div>\n",
              "    <div class=\"colab-df-buttons\">\n",
              "\n",
              "  <div class=\"colab-df-container\">\n",
              "    <button class=\"colab-df-convert\" onclick=\"convertToInteractive('df-3813c0e6-a98f-4f16-8ec2-3a2a25aea517')\"\n",
              "            title=\"Convert this dataframe to an interactive table.\"\n",
              "            style=\"display:none;\">\n",
              "\n",
              "  <svg xmlns=\"http://www.w3.org/2000/svg\" height=\"24px\" viewBox=\"0 -960 960 960\">\n",
              "    <path d=\"M120-120v-720h720v720H120Zm60-500h600v-160H180v160Zm220 220h160v-160H400v160Zm0 220h160v-160H400v160ZM180-400h160v-160H180v160Zm440 0h160v-160H620v160ZM180-180h160v-160H180v160Zm440 0h160v-160H620v160Z\"/>\n",
              "  </svg>\n",
              "    </button>\n",
              "\n",
              "  <style>\n",
              "    .colab-df-container {\n",
              "      display:flex;\n",
              "      gap: 12px;\n",
              "    }\n",
              "\n",
              "    .colab-df-convert {\n",
              "      background-color: #E8F0FE;\n",
              "      border: none;\n",
              "      border-radius: 50%;\n",
              "      cursor: pointer;\n",
              "      display: none;\n",
              "      fill: #1967D2;\n",
              "      height: 32px;\n",
              "      padding: 0 0 0 0;\n",
              "      width: 32px;\n",
              "    }\n",
              "\n",
              "    .colab-df-convert:hover {\n",
              "      background-color: #E2EBFA;\n",
              "      box-shadow: 0px 1px 2px rgba(60, 64, 67, 0.3), 0px 1px 3px 1px rgba(60, 64, 67, 0.15);\n",
              "      fill: #174EA6;\n",
              "    }\n",
              "\n",
              "    .colab-df-buttons div {\n",
              "      margin-bottom: 4px;\n",
              "    }\n",
              "\n",
              "    [theme=dark] .colab-df-convert {\n",
              "      background-color: #3B4455;\n",
              "      fill: #D2E3FC;\n",
              "    }\n",
              "\n",
              "    [theme=dark] .colab-df-convert:hover {\n",
              "      background-color: #434B5C;\n",
              "      box-shadow: 0px 1px 3px 1px rgba(0, 0, 0, 0.15);\n",
              "      filter: drop-shadow(0px 1px 2px rgba(0, 0, 0, 0.3));\n",
              "      fill: #FFFFFF;\n",
              "    }\n",
              "  </style>\n",
              "\n",
              "    <script>\n",
              "      const buttonEl =\n",
              "        document.querySelector('#df-3813c0e6-a98f-4f16-8ec2-3a2a25aea517 button.colab-df-convert');\n",
              "      buttonEl.style.display =\n",
              "        google.colab.kernel.accessAllowed ? 'block' : 'none';\n",
              "\n",
              "      async function convertToInteractive(key) {\n",
              "        const element = document.querySelector('#df-3813c0e6-a98f-4f16-8ec2-3a2a25aea517');\n",
              "        const dataTable =\n",
              "          await google.colab.kernel.invokeFunction('convertToInteractive',\n",
              "                                                    [key], {});\n",
              "        if (!dataTable) return;\n",
              "\n",
              "        const docLinkHtml = 'Like what you see? Visit the ' +\n",
              "          '<a target=\"_blank\" href=https://colab.research.google.com/notebooks/data_table.ipynb>data table notebook</a>'\n",
              "          + ' to learn more about interactive tables.';\n",
              "        element.innerHTML = '';\n",
              "        dataTable['output_type'] = 'display_data';\n",
              "        await google.colab.output.renderOutput(dataTable, element);\n",
              "        const docLink = document.createElement('div');\n",
              "        docLink.innerHTML = docLinkHtml;\n",
              "        element.appendChild(docLink);\n",
              "      }\n",
              "    </script>\n",
              "  </div>\n",
              "\n",
              "\n",
              "<div id=\"df-1e46d0ff-73f9-411f-85d1-603ef8f13eba\">\n",
              "  <button class=\"colab-df-quickchart\" onclick=\"quickchart('df-1e46d0ff-73f9-411f-85d1-603ef8f13eba')\"\n",
              "            title=\"Suggest charts\"\n",
              "            style=\"display:none;\">\n",
              "\n",
              "<svg xmlns=\"http://www.w3.org/2000/svg\" height=\"24px\"viewBox=\"0 0 24 24\"\n",
              "     width=\"24px\">\n",
              "    <g>\n",
              "        <path d=\"M19 3H5c-1.1 0-2 .9-2 2v14c0 1.1.9 2 2 2h14c1.1 0 2-.9 2-2V5c0-1.1-.9-2-2-2zM9 17H7v-7h2v7zm4 0h-2V7h2v10zm4 0h-2v-4h2v4z\"/>\n",
              "    </g>\n",
              "</svg>\n",
              "  </button>\n",
              "\n",
              "<style>\n",
              "  .colab-df-quickchart {\n",
              "      --bg-color: #E8F0FE;\n",
              "      --fill-color: #1967D2;\n",
              "      --hover-bg-color: #E2EBFA;\n",
              "      --hover-fill-color: #174EA6;\n",
              "      --disabled-fill-color: #AAA;\n",
              "      --disabled-bg-color: #DDD;\n",
              "  }\n",
              "\n",
              "  [theme=dark] .colab-df-quickchart {\n",
              "      --bg-color: #3B4455;\n",
              "      --fill-color: #D2E3FC;\n",
              "      --hover-bg-color: #434B5C;\n",
              "      --hover-fill-color: #FFFFFF;\n",
              "      --disabled-bg-color: #3B4455;\n",
              "      --disabled-fill-color: #666;\n",
              "  }\n",
              "\n",
              "  .colab-df-quickchart {\n",
              "    background-color: var(--bg-color);\n",
              "    border: none;\n",
              "    border-radius: 50%;\n",
              "    cursor: pointer;\n",
              "    display: none;\n",
              "    fill: var(--fill-color);\n",
              "    height: 32px;\n",
              "    padding: 0;\n",
              "    width: 32px;\n",
              "  }\n",
              "\n",
              "  .colab-df-quickchart:hover {\n",
              "    background-color: var(--hover-bg-color);\n",
              "    box-shadow: 0 1px 2px rgba(60, 64, 67, 0.3), 0 1px 3px 1px rgba(60, 64, 67, 0.15);\n",
              "    fill: var(--button-hover-fill-color);\n",
              "  }\n",
              "\n",
              "  .colab-df-quickchart-complete:disabled,\n",
              "  .colab-df-quickchart-complete:disabled:hover {\n",
              "    background-color: var(--disabled-bg-color);\n",
              "    fill: var(--disabled-fill-color);\n",
              "    box-shadow: none;\n",
              "  }\n",
              "\n",
              "  .colab-df-spinner {\n",
              "    border: 2px solid var(--fill-color);\n",
              "    border-color: transparent;\n",
              "    border-bottom-color: var(--fill-color);\n",
              "    animation:\n",
              "      spin 1s steps(1) infinite;\n",
              "  }\n",
              "\n",
              "  @keyframes spin {\n",
              "    0% {\n",
              "      border-color: transparent;\n",
              "      border-bottom-color: var(--fill-color);\n",
              "      border-left-color: var(--fill-color);\n",
              "    }\n",
              "    20% {\n",
              "      border-color: transparent;\n",
              "      border-left-color: var(--fill-color);\n",
              "      border-top-color: var(--fill-color);\n",
              "    }\n",
              "    30% {\n",
              "      border-color: transparent;\n",
              "      border-left-color: var(--fill-color);\n",
              "      border-top-color: var(--fill-color);\n",
              "      border-right-color: var(--fill-color);\n",
              "    }\n",
              "    40% {\n",
              "      border-color: transparent;\n",
              "      border-right-color: var(--fill-color);\n",
              "      border-top-color: var(--fill-color);\n",
              "    }\n",
              "    60% {\n",
              "      border-color: transparent;\n",
              "      border-right-color: var(--fill-color);\n",
              "    }\n",
              "    80% {\n",
              "      border-color: transparent;\n",
              "      border-right-color: var(--fill-color);\n",
              "      border-bottom-color: var(--fill-color);\n",
              "    }\n",
              "    90% {\n",
              "      border-color: transparent;\n",
              "      border-bottom-color: var(--fill-color);\n",
              "    }\n",
              "  }\n",
              "</style>\n",
              "\n",
              "  <script>\n",
              "    async function quickchart(key) {\n",
              "      const quickchartButtonEl =\n",
              "        document.querySelector('#' + key + ' button');\n",
              "      quickchartButtonEl.disabled = true;  // To prevent multiple clicks.\n",
              "      quickchartButtonEl.classList.add('colab-df-spinner');\n",
              "      try {\n",
              "        const charts = await google.colab.kernel.invokeFunction(\n",
              "            'suggestCharts', [key], {});\n",
              "      } catch (error) {\n",
              "        console.error('Error during call to suggestCharts:', error);\n",
              "      }\n",
              "      quickchartButtonEl.classList.remove('colab-df-spinner');\n",
              "      quickchartButtonEl.classList.add('colab-df-quickchart-complete');\n",
              "    }\n",
              "    (() => {\n",
              "      let quickchartButtonEl =\n",
              "        document.querySelector('#df-1e46d0ff-73f9-411f-85d1-603ef8f13eba button');\n",
              "      quickchartButtonEl.style.display =\n",
              "        google.colab.kernel.accessAllowed ? 'block' : 'none';\n",
              "    })();\n",
              "  </script>\n",
              "</div>\n",
              "\n",
              "    </div>\n",
              "  </div>\n"
            ],
            "application/vnd.google.colaboratory.intrinsic+json": {
              "type": "dataframe",
              "variable_name": "merged_df"
            }
          },
          "metadata": {},
          "execution_count": 27
        }
      ]
    },
    {
      "cell_type": "code",
      "source": [
        "# Combine textual features\n",
        "merged_df['combined_features'] = merged_df['Name'] + ' ' + merged_df['Authors'] + ' ' + merged_df['Description']"
      ],
      "metadata": {
        "id": "g-8sZa1tCoJX"
      },
      "execution_count": 28,
      "outputs": []
    },
    {
      "cell_type": "code",
      "source": [
        "merged_df['combined_features']"
      ],
      "metadata": {
        "id": "q5eh-cNmEYbh",
        "colab": {
          "base_uri": "https://localhost:8080/"
        },
        "outputId": "44f7fb49-7bf8-4a72-fcb2-018a8438a7d0"
      },
      "execution_count": 29,
      "outputs": [
        {
          "output_type": "execute_result",
          "data": {
            "text/plain": [
              "0          Harry Potter and the Half-Blood Prince (Harry ...\n",
              "1          Harry Potter and the Order of the Phoenix (Har...\n",
              "2          Harry Potter and the Sorcerer's Stone (Harry P...\n",
              "3          Harry Potter and the Chamber of Secrets (Harry...\n",
              "4          Harry Potter and the Prisoner of Azkaban (Harr...\n",
              "                                 ...                        \n",
              "2212901    The Quest for Consciousness: A Neurobiological...\n",
              "2212902    Palestine's Children: Returning to Haifa and O...\n",
              "2212903    The Question of Palestine Unknown Description ...\n",
              "2212904       Out of Place Unknown Description not available\n",
              "2212905    From Oslo to Iraq and the Road Map: Essays Unk...\n",
              "Name: combined_features, Length: 2212906, dtype: object"
            ]
          },
          "metadata": {},
          "execution_count": 29
        }
      ]
    },
    {
      "cell_type": "markdown",
      "source": [
        "###Scale Features"
      ],
      "metadata": {
        "id": "Uqe-yjurUkyX"
      }
    },
    {
      "cell_type": "code",
      "source": [
        "# Scale numerical features\n",
        "scaler = StandardScaler()\n",
        "numerical_features = ['RatingDist1', 'RatingDist4', 'RatingDistTotal', 'PublishMonth', 'PublishDay', 'CountsOfReview', 'PublishYear', 'RatingDist2', 'RatingDist5', 'RatingDist3']\n",
        "merged_df[numerical_features] = scaler.fit_transform(merged_df[numerical_features])"
      ],
      "metadata": {
        "id": "K3YX9QsLEbdh"
      },
      "execution_count": 30,
      "outputs": []
    },
    {
      "cell_type": "markdown",
      "source": [
        "###Tfidf"
      ],
      "metadata": {
        "id": "uecEaVHCUof4"
      }
    },
    {
      "cell_type": "code",
      "source": [
        "# Initialize TfidfVectorizer to convert text to vectors\n",
        "tfidf_vectorizer = TfidfVectorizer(stop_words='english')"
      ],
      "metadata": {
        "id": "TUgDy36VEfTB"
      },
      "execution_count": 31,
      "outputs": []
    },
    {
      "cell_type": "code",
      "source": [
        "# Fit and transform the 'combined_features' column to create a document-term matrix\n",
        "tfidf_matrix = tfidf_vectorizer.fit_transform(merged_df['combined_features'])"
      ],
      "metadata": {
        "id": "j_KWYRwLEiNR"
      },
      "execution_count": 32,
      "outputs": []
    },
    {
      "cell_type": "markdown",
      "source": [
        "###Cosine similarity"
      ],
      "metadata": {
        "id": "z5d8MJtQUssX"
      }
    },
    {
      "cell_type": "code",
      "source": [
        "# Compute cosine similarity between items based on multiple features\n",
        "cosine_sim = cosine_similarity(tfidf_matrix, tfidf_matrix)"
      ],
      "metadata": {
        "id": "J-3B6iMxEjpx"
      },
      "execution_count": null,
      "outputs": []
    },
    {
      "cell_type": "code",
      "source": [
        "# Function to recommend items based on cosine similarity\n",
        "def recommend_item(item_id, cosine_sim=cosine_sim, data=merged_df):\n",
        "    # Get the index of the item\n",
        "    idx = data[data['Id'] == item_id].index[0]\n",
        "\n",
        "    # Get pairwise similarity scores of the item with all other items\n",
        "    sim_scores = list(enumerate(cosine_sim[idx]))\n",
        "\n",
        "    # Sort the items based on similarity scores\n",
        "    sim_scores = sorted(sim_scores, key=lambda x: x[1], reverse=True)\n",
        "\n",
        "    # Get top 10 most similar items (excluding itself)\n",
        "    sim_scores = sim_scores[1:11]\n",
        "\n",
        "    # Get the indices of recommended items\n",
        "    item_indices = [i[0] for i in sim_scores]\n",
        "\n",
        "    # Return the top 10 recommended items\n",
        "    return data.iloc[item_indices]"
      ],
      "metadata": {
        "id": "sZiMBcYJEldj"
      },
      "execution_count": null,
      "outputs": []
    },
    {
      "cell_type": "markdown",
      "source": [
        "###Recommend items"
      ],
      "metadata": {
        "id": "J-3dt8itUyxD"
      }
    },
    {
      "cell_type": "code",
      "source": [
        "# Example: Get recommendations for an item with Id=1\n",
        "recommended_items = recommend_item(item_id=1)\n",
        "print(recommended_items[['Id', 'Name']])"
      ],
      "metadata": {
        "id": "g-t9ZKcVEnjy"
      },
      "execution_count": null,
      "outputs": []
    },
    {
      "cell_type": "markdown",
      "source": [
        "### **Summary and Conclusion:**\n",
        "\n",
        "The project titled \"Goodreads Book\" aimed to explore a comprehensive dataset of books obtained from the Goodreads API to analyze ratings, popularity, and genres. The main objectives included conducting Exploratory Data Analysis (EDA) to understand the dataset's structure and identify trends, analyzing book ratings and factors influencing them, investigating book popularity based on reviews and ratings, exploring genre distribution and trends, and developing a recommendation system for personalized book suggestions.\n",
        "\n",
        "Throughout the project, various tasks were accomplished. The dataset was thoroughly explored, and key insights and trends were uncovered through EDA. Visualizations were used to illustrate trends and patterns in book ratings, popularity, and genres. Rating and popularity analysis reports provided insights into factors influencing book ratings and popularity, while genre analysis reports showcased trends in genre preferences among readers.\n",
        "\n",
        "One of the key challenges faced during the project was handling missing or incomplete data, which was addressed by imputation and data preprocessing techniques. Efficient management of large volumes of data was ensured to facilitate smooth analysis and modeling processes. The recommendation system was developed using cosine similarity to suggest relevant books to users based on their preferences and similarities between books.\n",
        "\n",
        "Overall, the project successfully achieved its objectives by providing meaningful insights into the dataset and developing an effective recommendation system for personalized book suggestions. The project's success criteria were met, and actionable recommendations were provided for stakeholders in the book industry, including book enthusiasts, authors, and publishers. The project contributes to enhancing the book browsing and reading experience for users and stakeholders alike."
      ],
      "metadata": {
        "id": "u9DKdVyuVZBE"
      }
    }
  ]
}